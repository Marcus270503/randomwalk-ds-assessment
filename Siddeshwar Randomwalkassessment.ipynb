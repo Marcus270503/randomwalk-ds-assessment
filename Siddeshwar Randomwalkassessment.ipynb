{
  "nbformat": 4,
  "nbformat_minor": 0,
  "metadata": {
    "colab": {
      "provenance": []
    },
    "kernelspec": {
      "name": "python3",
      "display_name": "Python 3"
    },
    "language_info": {
      "name": "python"
    }
  },
  "cells": [
    {
      "cell_type": "markdown",
      "source": [
        "Reading the CSV file"
      ],
      "metadata": {
        "id": "4vVCVX8s6xpt"
      }
    },
    {
      "cell_type": "code",
      "execution_count": 1,
      "metadata": {
        "id": "uehYmYdn3sFK"
      },
      "outputs": [],
      "source": [
        "import pandas as pd\n",
        "import numpy as np\n",
        "import matplotlib.pyplot as plt\n",
        "data = pd.read_csv(\"/content/books.csv\")"
      ]
    },
    {
      "cell_type": "markdown",
      "source": [
        "Q1: How many rows and columns are there in books.csv dataset?"
      ],
      "metadata": {
        "id": "GDgRO4bX6oCL"
      }
    },
    {
      "cell_type": "code",
      "source": [
        "num_rows = data.shape[0]\n",
        "num_columns = data.shape[1]\n",
        "print(f\"Number of rows: {num_rows}\")\n",
        "print(f\"Number of columns: {num_columns}\")"
      ],
      "metadata": {
        "colab": {
          "base_uri": "https://localhost:8080/"
        },
        "id": "HCQmuhk948wu",
        "outputId": "dd89970e-8f7a-4ff8-cb7d-b3089675dbe9"
      },
      "execution_count": 2,
      "outputs": [
        {
          "output_type": "stream",
          "name": "stdout",
          "text": [
            "Number of rows: 399\n",
            "Number of columns: 24\n"
          ]
        }
      ]
    },
    {
      "cell_type": "markdown",
      "source": [
        "Q2: How many books do not have an original title?"
      ],
      "metadata": {
        "id": "yDn-Lxq862AY"
      }
    },
    {
      "cell_type": "code",
      "source": [
        "books_without_original_title = data[data['original_title'].isnull()]['title'].count()\n",
        "print(f\"Number of books without an original title: {books_without_original_title}\")"
      ],
      "metadata": {
        "colab": {
          "base_uri": "https://localhost:8080/"
        },
        "id": "mPUPRip861HR",
        "outputId": "76ce5c0f-7933-4dcd-96c4-6a481b9f1764"
      },
      "execution_count": 3,
      "outputs": [
        {
          "output_type": "stream",
          "name": "stdout",
          "text": [
            "Number of books without an original title: 36\n"
          ]
        }
      ]
    },
    {
      "cell_type": "markdown",
      "source": [
        "Q3: How many unique books are present in the dataset ? Evaluate based on the 'book_id' after removing null values in the original_title column."
      ],
      "metadata": {
        "id": "F6PNu8a77WJg"
      }
    },
    {
      "cell_type": "code",
      "source": [
        "df = data.dropna(subset=['original_title'])\n",
        "unique_books = df['book_id'].nunique()\n",
        "print(f\"Number of unique books in the dataset: {unique_books}\")"
      ],
      "metadata": {
        "colab": {
          "base_uri": "https://localhost:8080/"
        },
        "id": "uX0-bRLV7saC",
        "outputId": "318adb14-fd0d-406c-88b1-6b00f44eb3fa"
      },
      "execution_count": 4,
      "outputs": [
        {
          "output_type": "stream",
          "name": "stdout",
          "text": [
            "Number of unique books in the dataset: 363\n"
          ]
        }
      ]
    },
    {
      "cell_type": "markdown",
      "source": [
        "Q4: What is the average rating of all the books in the dataset based on ‘average_rating’?"
      ],
      "metadata": {
        "id": "vm8FTcSy8DmH"
      }
    },
    {
      "cell_type": "code",
      "source": [
        "df = data.dropna(subset=['average_rating'])\n",
        "average_rating = df['average_rating'].mean()\n",
        "print(f\"Average rating of all the books in the dataset: {average_rating}\")"
      ],
      "metadata": {
        "colab": {
          "base_uri": "https://localhost:8080/"
        },
        "id": "ERIRkWTb8DEL",
        "outputId": "96229d59-9d6b-4567-e8a8-9985f4b6734b"
      },
      "execution_count": 5,
      "outputs": [
        {
          "output_type": "stream",
          "name": "stdout",
          "text": [
            "Average rating of all the books in the dataset: 3.9837844611528817\n"
          ]
        }
      ]
    },
    {
      "cell_type": "markdown",
      "source": [
        "Q5: Find the number of books published in the year ‘2000’ based on the ‘original_publication_year’."
      ],
      "metadata": {
        "id": "xZ4lHfU98cAH"
      }
    },
    {
      "cell_type": "code",
      "source": [
        "books_published_in_2000 = data[data['original_publication_year'] == 2000]\n",
        "number_of_books = len(books_published_in_2000)\n",
        "print(f\"Number of books published in the year 2000: {number_of_books}\")"
      ],
      "metadata": {
        "colab": {
          "base_uri": "https://localhost:8080/"
        },
        "id": "zWjPaNwj8bhe",
        "outputId": "942dc1c3-cfbe-4957-f59d-13487b12c53f"
      },
      "execution_count": 6,
      "outputs": [
        {
          "output_type": "stream",
          "name": "stdout",
          "text": [
            "Number of books published in the year 2000: 8\n"
          ]
        }
      ]
    },
    {
      "cell_type": "markdown",
      "source": [
        "Q6: Which book (title) has the maximum number of ratings based on ‘work_ratings_count’."
      ],
      "metadata": {
        "id": "4F11PJ3I86rK"
      }
    },
    {
      "cell_type": "code",
      "source": [
        "df = data.sort_values(by='work_ratings_count', ascending=False)\n",
        "book_with_max_ratings = df.iloc[0]['original_title']\n",
        "print(f\"Book with maximum number of ratings: {book_with_max_ratings}\")"
      ],
      "metadata": {
        "colab": {
          "base_uri": "https://localhost:8080/"
        },
        "id": "SaNEn64a88ha",
        "outputId": "ac6e5d19-aad7-4cfb-e39f-b84e249fc635"
      },
      "execution_count": 7,
      "outputs": [
        {
          "output_type": "stream",
          "name": "stdout",
          "text": [
            "Book with maximum number of ratings: Het Achterhuis: Dagboekbrieven 14 juni 1942 - 1 augustus 1944\n"
          ]
        }
      ]
    },
    {
      "cell_type": "markdown",
      "source": [
        "Q7: Bucket the average_rating of books into 11 buckets [0, 0.5, 1.0, 1.5, 2.0, 2.5, 3.0, 3.5, 4.0, 4.5, 5.0] with 0.5 decimal rounding (eg: average_rating 3.0 to 3.49 will fall in bucket 3.0). Plot bar graph to show total number of books in each rating bucket."
      ],
      "metadata": {
        "id": "2O1Q44ZM9YHD"
      }
    },
    {
      "cell_type": "code",
      "source": [
        "buckets = np.arange(0, 5.5, 0.5)\n",
        "data['rating_bucket'] = pd.cut(df['average_rating'], buckets, labels=buckets[:-1], include_lowest=True)\n",
        "rating_counts = data['rating_bucket'].value_counts()\n",
        "plt.figure(figsize=(12, 6))\n",
        "plt.bar(rating_counts.index, rating_counts.values, color='red')\n",
        "plt.xlabel('Rating Bucket')\n",
        "plt.ylabel('Number of Books')\n",
        "plt.title('Number of Books in Each Rating Bucket')\n",
        "plt.show()"
      ],
      "metadata": {
        "colab": {
          "base_uri": "https://localhost:8080/",
          "height": 564
        },
        "id": "VDSC5MrG9Xxs",
        "outputId": "ec146f6f-2cf7-4c56-8588-f8f0ed5c6f2b"
      },
      "execution_count": 9,
      "outputs": [
        {
          "output_type": "display_data",
          "data": {
            "text/plain": [
              "<Figure size 1200x600 with 1 Axes>"
            ],
            "image/png": "[encoded data removed]"
          },
          "metadata": {}
        }
      ]
    },
    {
      "cell_type": "code",
      "source": [],
      "metadata": {
        "id": "FyDk1yxRBDgt"
      },
      "execution_count": 8,
      "outputs": []
    }
  ]
}